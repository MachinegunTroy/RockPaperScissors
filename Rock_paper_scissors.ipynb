{
  "cells": [
    {
      "cell_type": "code",
      "source": [
        "!pip install pettingzoo"
      ],
      "metadata": {
        "colab": {
          "base_uri": "https://localhost:8080/"
        },
        "id": "aU81mL9Zovkw",
        "outputId": "742eb401-de58-4755-a1ca-f79c8b6a2af3"
      },
      "id": "aU81mL9Zovkw",
      "execution_count": 1,
      "outputs": [
        {
          "output_type": "stream",
          "name": "stdout",
          "text": [
            "Collecting pettingzoo\n",
            "  Downloading pettingzoo-1.25.0-py3-none-any.whl.metadata (8.9 kB)\n",
            "Requirement already satisfied: numpy>=1.21.0 in /usr/local/lib/python3.12/dist-packages (from pettingzoo) (2.0.2)\n",
            "Requirement already satisfied: gymnasium>=1.0.0 in /usr/local/lib/python3.12/dist-packages (from pettingzoo) (1.2.0)\n",
            "Requirement already satisfied: cloudpickle>=1.2.0 in /usr/local/lib/python3.12/dist-packages (from gymnasium>=1.0.0->pettingzoo) (3.1.1)\n",
            "Requirement already satisfied: typing-extensions>=4.3.0 in /usr/local/lib/python3.12/dist-packages (from gymnasium>=1.0.0->pettingzoo) (4.15.0)\n",
            "Requirement already satisfied: farama-notifications>=0.0.1 in /usr/local/lib/python3.12/dist-packages (from gymnasium>=1.0.0->pettingzoo) (0.0.4)\n",
            "Downloading pettingzoo-1.25.0-py3-none-any.whl (852 kB)\n",
            "\u001b[2K   \u001b[90m━━━━━━━━━━━━━━━━━━━━━━━━━━━━━━━━━━━━━━━━\u001b[0m \u001b[32m852.5/852.5 kB\u001b[0m \u001b[31m15.9 MB/s\u001b[0m eta \u001b[36m0:00:00\u001b[0m\n",
            "\u001b[?25hInstalling collected packages: pettingzoo\n",
            "Successfully installed pettingzoo-1.25.0\n"
          ]
        }
      ]
    },
    {
      "cell_type": "code",
      "execution_count": 2,
      "id": "d2016638-1566-4ff5-a6fb-a798955f495c",
      "metadata": {
        "id": "d2016638-1566-4ff5-a6fb-a798955f495c"
      },
      "outputs": [],
      "source": [
        "import functools\n",
        "\n",
        "import gymnasium\n",
        "import numpy as np\n",
        "from gymnasium.spaces import Discrete, Tuple\n",
        "from gymnasium.utils import seeding\n",
        "from pettingzoo import AECEnv\n",
        "from pettingzoo.utils import wrappers\n",
        "from pettingzoo.utils.agent_selector import agent_selector\n",
        "import random\n",
        "import matplotlib.pyplot as plt"
      ]
    },
    {
      "cell_type": "code",
      "execution_count": 13,
      "id": "4e02da48-15f1-4841-b1df-49e5841f462b",
      "metadata": {
        "id": "4e02da48-15f1-4841-b1df-49e5841f462b"
      },
      "outputs": [],
      "source": [
        "class RockPaperScissorsEnv(AECEnv):\n",
        "    metadata = {\"name\":\"RockPaperScissorsEnv_v0\"}\n",
        "    def __init__(self):\n",
        "        super().__init__()\n",
        "        self.possible_agents = [\"player_0\",\"player_1\"]\n",
        "        self.agent_name_mapping = dict(zip(self.possible_agents,list(range(len(self.possible_agents)))))\n",
        "        self._action_spaces = {agent: Discrete(3) for agent in self.possible_agents} #0 for Rock, 1 for Paper, 2 for Scissors\n",
        "        self.observation_spaces = {agent: Discrete(4) for agent in self.possible_agents} #0-2 for Opponent's last move and 3 if he made the first move to mask his move\n",
        "        self.agents_moves = {}\n",
        "\n",
        "    def observe(self,agent): #Observe opponents last move but return 3 instead if it is the first move\n",
        "        opponent = self.possible_agents[1-self.agent_name_mapping[agent]]\n",
        "        return self.agents_moves.get(opponent,3)\n",
        "\n",
        "    def reset(self,seed=None,options=None):\n",
        "        self.agents = self.possible_agents[:]\n",
        "        self.rewards = {agent:0 for agent in self.agents}\n",
        "        self._cumulative_rewards = {agent:0 for agent in self.agents}\n",
        "        self.terminations = {agent: False for agent in self.agents}\n",
        "        self.truncations = {agent: False for agent in self.agents}\n",
        "        self.infos = {agent:{} for agent in self.agents}\n",
        "\n",
        "        self.agents_moves.clear()\n",
        "\n",
        "        self._agent_selector = agent_selector(self.agents)\n",
        "        self.agent_selection = self._agent_selector.next()\n",
        "\n",
        "        observation = self.observe(self.agent_selection)\n",
        "        return observation, self.infos[self.agent_selection]\n",
        "\n",
        "    def step(self,action):\n",
        "        current_agent = self.agent_selection\n",
        "\n",
        "        if self.terminations[current_agent]:\n",
        "            self._was_dead_step(action)\n",
        "            return\n",
        "\n",
        "        self.agents_moves[current_agent] = action\n",
        "\n",
        "        if self._agent_selector.is_last(): #Resolve round if last agent has moved\n",
        "            if self.agents_moves[\"player_0\"] == self.agents_moves[\"player_1\"]: #Tie\n",
        "                self.rewards[\"player_0\"] = 0\n",
        "                self.rewards[\"player_1\"] = 0\n",
        "            elif self.agents_moves[\"player_0\"] == 0 and self.agents_moves[\"player_1\"] == 1:#If player_0 picks rock and player_1 picks paper\n",
        "                self.rewards[\"player_0\"] = -1\n",
        "                self.rewards[\"player_1\"] = 1\n",
        "            elif self.agents_moves[\"player_0\"] == 1 and self.agents_moves[\"player_1\"] == 2:#If player_0 picks paper and player_1 picks scissors\n",
        "                self.rewards[\"player_0\"] = -1\n",
        "                self.rewards[\"player_1\"] = 1\n",
        "            elif self.agents_moves[\"player_0\"] == 2 and self.agents_moves[\"player_1\"] == 0:#If player_0 picks scissors and player_1 picks rock\n",
        "                self.rewards[\"player_0\"] = -1\n",
        "                self.rewards[\"player_1\"] = 1\n",
        "            else: #If no win conditions for player_0 and not tie, player_1 wins\n",
        "                self.rewards[\"player_0\"] = 1\n",
        "                self.rewards[\"player_1\"] = -1\n",
        "\n",
        "            self._cumulative_rewards = self.rewards.copy()\n",
        "            self.terminations = {a: True for a in self.agents}\n",
        "\n",
        "        self.agent_selection = self._agent_selector.next() #Switch to next agent\n",
        "        # self._accumulate_rewards()\n",
        "\n",
        "    def action_space(self,agent):\n",
        "        return self._action_spaces[agent]\n",
        "\n",
        "    def observation_space(self,agent):\n",
        "        return self._observation_spaces[agent]"
      ]
    },
    {
      "cell_type": "code",
      "execution_count": 4,
      "id": "d7b753c0-f851-45f4-abd9-ff26253fd576",
      "metadata": {
        "id": "d7b753c0-f851-45f4-abd9-ff26253fd576"
      },
      "outputs": [],
      "source": [
        "import torch\n",
        "import torch.nn as nn\n",
        "import torch.optim as optim\n",
        "import numpy as np\n",
        "import random\n",
        "from collections import deque\n",
        "import torch.nn.functional as F\n",
        "\n",
        "LEARNING_RATE = 0.001\n",
        "GAMMA = 0.99\n",
        "\n",
        "NUM_EPISODES = 20000\n",
        "EPSILON_START = 1\n",
        "EPSILON_END = 0.01\n",
        "EPSILON_DECAY = 0.9995"
      ]
    },
    {
      "cell_type": "code",
      "source": [
        "if torch.cuda.is_available():\n",
        "    print(\"GPU is available!\")\n",
        "    print(\"Device Name:\", torch.cuda.get_device_name(0))\n",
        "else:\n",
        "    print(\"GPU not available, running on CPU.\")\n",
        "\n",
        "device = torch.device(\"cuda\" if torch.cuda.is_available() else \"cpu\")\n",
        "print(f\"Using device: {device}\")"
      ],
      "metadata": {
        "colab": {
          "base_uri": "https://localhost:8080/"
        },
        "id": "yql_c9_-orXY",
        "outputId": "cb5578f5-7984-455e-ed13-840932417bb9"
      },
      "id": "yql_c9_-orXY",
      "execution_count": 5,
      "outputs": [
        {
          "output_type": "stream",
          "name": "stdout",
          "text": [
            "GPU is available!\n",
            "Device Name: Tesla T4\n",
            "Using device: cuda\n"
          ]
        }
      ]
    },
    {
      "cell_type": "code",
      "execution_count": 6,
      "id": "ee056a2f-b30b-4702-a85b-72c86f9b286e",
      "metadata": {
        "id": "ee056a2f-b30b-4702-a85b-72c86f9b286e"
      },
      "outputs": [],
      "source": [
        "class QNetwork(nn.Module):\n",
        "    def __init__(self,input_size,output_size):\n",
        "        super(QNetwork,self).__init__()\n",
        "        self.net = nn.Sequential(\n",
        "            nn.Linear(input_size,128),\n",
        "            nn.ReLU(),\n",
        "            nn.Linear(128,128),\n",
        "            nn.ReLU(),\n",
        "            nn.Linear(128,output_size)\n",
        "        )\n",
        "    def forward(self,x):\n",
        "        return self.net(x)\n",
        "\n",
        "class DQNAgent:\n",
        "    def __init__(self,input_size,output_size):\n",
        "        self.action_size = output_size\n",
        "        self.observation_size = input_size\n",
        "        self.q_network = QNetwork(input_size=input_size,output_size=output_size).to(device)\n",
        "        self.optimizer = optim.Adam(self.q_network.parameters(),lr=LEARNING_RATE)\n",
        "        self.loss_fn = nn.MSELoss()\n",
        "        self.epsilon = EPSILON_START\n",
        "    def choose_action(self,state):\n",
        "        if random.random() < self.epsilon:\n",
        "            return random.randint(0,self.action_size-1) #Choose random action\n",
        "        else:\n",
        "            with torch.no_grad():\n",
        "                state_tensor = torch.LongTensor([state])\n",
        "                state_one_hot = F.one_hot(state_tensor,num_classes = self.observation_size).float().to(device)\n",
        "                q_values = self.q_network(state_one_hot.to(device))\n",
        "                return torch.argmax(q_values).item()\n",
        "\n",
        "    def learn(self,state,action,reward,next_state,done):\n",
        "        state_tensor = torch.LongTensor([state])\n",
        "        state_one_hot = F.one_hot(state_tensor,num_classes = self.observation_size).float()\n",
        "        next_state_tensor = torch.LongTensor([next_state])\n",
        "        next_state_one_hot = F.one_hot(next_state_tensor,num_classes = self.observation_size).float()\n",
        "        action_tensor = torch.LongTensor([action])\n",
        "        reward_tensor = torch.FloatTensor([reward])\n",
        "        done_tensor = torch.BoolTensor([done])\n",
        "\n",
        "        #Moving tensors to GPU\n",
        "        state_one_hot = state_one_hot.to(device)\n",
        "        next_state_one_hot = next_state_one_hot.to(device)\n",
        "        action_tensor = action_tensor.to(device)\n",
        "        reward_tensor = reward_tensor.to(device)\n",
        "        done_tensor = done_tensor.to(device)\n",
        "\n",
        "        current_q_values = self.q_network(state_one_hot)\n",
        "        current_q_for_action = current_q_values.gather(1,action_tensor.unsqueeze(1)).squeeze(1)\n",
        "\n",
        "        with torch.no_grad():\n",
        "            next_q_values = self.q_network(next_state_one_hot)\n",
        "            max_next_q = next_q_values.max(1)[0]\n",
        "            target_q = reward_tensor + (~done_tensor) * GAMMA * max_next_q\n",
        "\n",
        "        loss = self.loss_fn(current_q_for_action,target_q)\n",
        "        self.optimizer.zero_grad()\n",
        "        loss.backward()\n",
        "        self.optimizer.step()\n",
        "\n",
        "    def decay_epsilon(self):\n",
        "        self.epsilon = max(EPSILON_END,self.epsilon*EPSILON_DECAY)"
      ]
    },
    {
      "cell_type": "code",
      "source": [
        "!pip install tqdm"
      ],
      "metadata": {
        "colab": {
          "base_uri": "https://localhost:8080/"
        },
        "id": "PUDrEeEYrN8I",
        "outputId": "c58c23a6-03e1-4b80-b903-7088b22a243e"
      },
      "id": "PUDrEeEYrN8I",
      "execution_count": 7,
      "outputs": [
        {
          "output_type": "stream",
          "name": "stdout",
          "text": [
            "Requirement already satisfied: tqdm in /usr/local/lib/python3.12/dist-packages (4.67.1)\n"
          ]
        }
      ]
    },
    {
      "cell_type": "code",
      "source": [
        "from tqdm.notebook import tqdm\n",
        "import time"
      ],
      "metadata": {
        "id": "FxL_w3H6rOny"
      },
      "id": "FxL_w3H6rOny",
      "execution_count": 8,
      "outputs": []
    },
    {
      "cell_type": "code",
      "source": [
        "if __name__ == \"__main__\":\n",
        "    env = RockPaperScissorsEnv()\n",
        "    agents = {agent_id: DQNAgent(input_size=4, output_size=3) for agent_id in env.possible_agents}\n",
        "    total_rewards = {agent_id: 0 for agent_id in env.possible_agents}\n",
        "\n",
        "    print(\"Start training\")\n",
        "    progress_bar = tqdm(range(NUM_EPISODES), desc=\"Training Progress\")\n",
        "\n",
        "    for episode in progress_bar:\n",
        "        observation, info = env.reset()\n",
        "        experience_buffer = {}\n",
        "        episode_rewards = {agent_id: 0 for agent_id in env.possible_agents}\n",
        "\n",
        "        while env.agents:\n",
        "            agent_id = env.agent_selection\n",
        "            observation, reward, termination, truncation, info = env.last()\n",
        "\n",
        "            if termination or truncation:\n",
        "                exp = experience_buffer[agent_id]\n",
        "                agents[agent_id].learn(exp['state'], exp['action'], reward, observation, True)\n",
        "                episode_rewards[agent_id] = reward\n",
        "                env.step(None)\n",
        "                continue\n",
        "\n",
        "            current_agent = agents[agent_id]\n",
        "            action = current_agent.choose_action(observation)\n",
        "            experience_buffer[agent_id] = {\"state\": observation, \"action\": action}\n",
        "            env.step(action)\n",
        "\n",
        "        for agent in agents.values():\n",
        "            agent.decay_epsilon()\n",
        "\n",
        "        for agent_id in env.possible_agents:\n",
        "            total_rewards[agent_id] += episode_rewards[agent_id]\n",
        "\n",
        "        if (episode + 1) % 1000 == 0:\n",
        "            avg_reward_p0 = total_rewards['player_0'] / 1000\n",
        "            avg_reward_p1 = total_rewards['player_1'] / 1000\n",
        "            progress_bar.set_description(f\"Ep {episode+1} | P0 R: {avg_reward_p0:.3f} | P1 R: {avg_reward_p1:.3f}\")\n",
        "            total_rewards = {agent_id: 0 for agent_id in env.possible_agents}"
      ],
      "metadata": {
        "colab": {
          "base_uri": "https://localhost:8080/",
          "height": 66,
          "referenced_widgets": [
            "931a9ab771724c68a31c0124fc0a9aea",
            "6da14c808f1c4fce9ef2f5aadf401c2f",
            "f5da3d37cbb242bd961a9d1de7a448c7",
            "1ade4e5d6eeb4875ac3e0017b83b1fde",
            "d71967fdd245427bad0dc136ad081a36",
            "af68f53f5b124fb8af8adbbc40ad0ee7",
            "4c7213505cea467e9e3ee51d1b1bbc77",
            "9265fb107c6542f2b6d40757797b619d",
            "c8dbafd4aaad4fae87fb26c919930c04",
            "a24cc847dfa94961a651d16be18de7e4",
            "527fe8f026f843feb5cc5c5b2970e1ec"
          ]
        },
        "id": "-QI5Fkxe9ju8",
        "outputId": "fae6a1e8-de65-4154-faed-2da1d81cf5e9"
      },
      "id": "-QI5Fkxe9ju8",
      "execution_count": 14,
      "outputs": [
        {
          "output_type": "stream",
          "name": "stdout",
          "text": [
            "Start training\n"
          ]
        },
        {
          "output_type": "display_data",
          "data": {
            "text/plain": [
              "Training Progress:   0%|          | 0/20000 [00:00<?, ?it/s]"
            ],
            "application/vnd.jupyter.widget-view+json": {
              "version_major": 2,
              "version_minor": 0,
              "model_id": "931a9ab771724c68a31c0124fc0a9aea"
            }
          },
          "metadata": {}
        }
      ]
    },
    {
      "cell_type": "code",
      "source": [
        "from tqdm.notebook import tqdm\n",
        "\n",
        "num_games = 10000\n",
        "for agent in agents.values():\n",
        "  agent.epsilon = 0\n",
        "\n",
        "stats = {\"player_0_wins\": 0, \"player_1_wins\": 0, \"ties\": 0}\n",
        "\n",
        "print(\"\\n--- Starting Final Evaluation ---\")\n",
        "for _ in tqdm(range(num_games), desc=\"Evaluating\"):\n",
        "  observation, info = env.reset()\n",
        "  moves = {}\n",
        "\n",
        "  while env.agents:\n",
        "      agent_id = env.agent_selection\n",
        "      observation, reward, termination, truncation, info = env.last()\n",
        "\n",
        "      if termination or truncation:\n",
        "          env.step(None)\n",
        "          continue\n",
        "\n",
        "      action = agents[agent_id].choose_action(observation)\n",
        "      moves[agent_id] = action\n",
        "      env.step(action)\n",
        "\n",
        "  p0_move = moves[\"player_0\"]\n",
        "  p1_move = moves[\"player_1\"]\n",
        "\n",
        "  if p0_move == p1_move: # Tie\n",
        "      stats[\"ties\"] += 1\n",
        "  elif p0_move == 0 and p1_move == 1: # P0 Rock, P1 Paper\n",
        "      stats[\"player_1_wins\"] += 1\n",
        "  elif p0_move == 1 and p1_move == 2: # P0 Paper, P1 Scissors\n",
        "      stats[\"player_1_wins\"] += 1\n",
        "  elif p0_move == 2 and p1_move == 0: # P0 Scissors, P1 Rock\n",
        "      stats[\"player_1_wins\"] += 1\n",
        "  else: # Otherwise, Player 0 wins\n",
        "      stats[\"player_0_wins\"] += 1\n",
        "\n",
        "print(f\"\\n--- Final Evaluation Results ({num_games} games) ---\")\n",
        "print(f\"Player 0 Wins: {stats['player_0_wins']} ({stats['player_0_wins']/num_games:.2%})\")\n",
        "print(f\"Player 1 Wins: {stats['player_1_wins']} ({stats['player_1_wins']/num_games:.2%})\")\n",
        "print(f\"Ties: {stats['ties']} ({stats['ties']/num_games:.2%})\")"
      ],
      "metadata": {
        "colab": {
          "base_uri": "https://localhost:8080/",
          "height": 171,
          "referenced_widgets": [
            "98cd6244a1a54494bb6854c512b67b55",
            "511be8010f8d4517833d23b951bbe9e6",
            "b8ae86fb79f04f768746a14eb8c80641",
            "282ba790f0164bc1be80a5a8a62a6cca",
            "f9af7aabdaaf4ecd8a45ce462ad22bc0",
            "6b0dac270d4143c5b087ec63df870e0d",
            "6c68679ccc7545a7bf293bc152b5d95c",
            "bfbebea65f8f4543827a006ea50ef23f",
            "77a5dc454a91425097ab27551eec98f4",
            "3ec70d9152a148ea82e1bb3c3d4c72ff",
            "27af5abb932d42999628d21a28108375"
          ]
        },
        "id": "dZASjHngM7Tm",
        "outputId": "7e1ea48d-2c1f-4181-ae0c-c20ab1c7a588"
      },
      "id": "dZASjHngM7Tm",
      "execution_count": 19,
      "outputs": [
        {
          "output_type": "stream",
          "name": "stdout",
          "text": [
            "\n",
            "--- Starting Final Evaluation ---\n"
          ]
        },
        {
          "output_type": "display_data",
          "data": {
            "text/plain": [
              "Evaluating:   0%|          | 0/10000 [00:00<?, ?it/s]"
            ],
            "application/vnd.jupyter.widget-view+json": {
              "version_major": 2,
              "version_minor": 0,
              "model_id": "98cd6244a1a54494bb6854c512b67b55"
            }
          },
          "metadata": {}
        },
        {
          "output_type": "stream",
          "name": "stdout",
          "text": [
            "\n",
            "--- Final Evaluation Results (10000 games) ---\n",
            "Player 0 Wins: 0 (0.00%)\n",
            "Player 1 Wins: 10000 (100.00%)\n",
            "Ties: 0 (0.00%)\n"
          ]
        }
      ]
    },
    {
      "cell_type": "code",
      "execution_count": 20,
      "id": "e2e7d8ba-5e92-4aed-825e-474650ea6c1b",
      "metadata": {
        "colab": {
          "base_uri": "https://localhost:8080/"
        },
        "id": "e2e7d8ba-5e92-4aed-825e-474650ea6c1b",
        "outputId": "196c4ff8-429b-43b0-8644-0dd81df6c39f"
      },
      "outputs": [
        {
          "output_type": "stream",
          "name": "stdout",
          "text": [
            "\n",
            "--- Agent's Deterministic Policy ---\n",
            "If... Opponent threw ROCK, Then I will play... Paper\n",
            "If... Opponent threw PAPER, Then I will play... Scissors\n",
            "If... Opponent threw SCISSORS, Then I will play... Rock\n",
            "If... FIRST MOVE, Then I will play... Rock\n"
          ]
        }
      ],
      "source": [
        "import matplotlib.pyplot as plt\n",
        "import numpy as np\n",
        "\n",
        "agent = agents['player_1']\n",
        "agent.epsilon = 0\n",
        "states = [0, 1, 2, 3]\n",
        "state_labels = [\"Opponent threw ROCK\", \"Opponent threw PAPER\", \"Opponent threw SCISSORS\", \"FIRST MOVE\"]\n",
        "\n",
        "policy = {}\n",
        "for state, label in zip(states, state_labels):\n",
        "    action = agent.choose_action(state)\n",
        "    policy[label] = [\"Rock\", \"Paper\", \"Scissors\"][action]\n",
        "\n",
        "print(\"\\n--- Agent's Deterministic Policy ---\")\n",
        "for situation, move in policy.items():\n",
        "    print(f\"If... {situation}, Then I will play... {move}\")"
      ]
    },
    {
      "cell_type": "code",
      "execution_count": null,
      "id": "fbdc32f2-401f-4450-8e57-febb5cba99e6",
      "metadata": {
        "id": "fbdc32f2-401f-4450-8e57-febb5cba99e6"
      },
      "outputs": [],
      "source": []
    },
    {
      "cell_type": "code",
      "execution_count": null,
      "id": "3aa9ba2d-403f-443e-a0fd-01b3401bb4e4",
      "metadata": {
        "id": "3aa9ba2d-403f-443e-a0fd-01b3401bb4e4"
      },
      "outputs": [],
      "source": []
    },
    {
      "cell_type": "code",
      "execution_count": null,
      "id": "81250819-03a8-48a3-afe6-6b57ac490951",
      "metadata": {
        "id": "81250819-03a8-48a3-afe6-6b57ac490951"
      },
      "outputs": [],
      "source": []
    },
    {
      "cell_type": "code",
      "execution_count": null,
      "id": "0ee08c4c-1e51-4bdd-a90d-a49f3d97cd4c",
      "metadata": {
        "id": "0ee08c4c-1e51-4bdd-a90d-a49f3d97cd4c"
      },
      "outputs": [],
      "source": []
    },
    {
      "cell_type": "code",
      "execution_count": null,
      "id": "dd8ff175-951a-405f-977c-5a74ce3b812e",
      "metadata": {
        "id": "dd8ff175-951a-405f-977c-5a74ce3b812e"
      },
      "outputs": [],
      "source": []
    }
  ],
  "metadata": {
    "kernelspec": {
      "display_name": "Python 3",
      "name": "python3"
    },
    "language_info": {
      "codemirror_mode": {
        "name": "ipython",
        "version": 3
      },
      "file_extension": ".py",
      "mimetype": "text/x-python",
      "name": "python",
      "nbconvert_exporter": "python",
      "pygments_lexer": "ipython3",
      "version": "3.13.2"
    },
    "colab": {
      "provenance": [],
      "gpuType": "T4"
    },
    "accelerator": "GPU",
    "widgets": {
      "application/vnd.jupyter.widget-state+json": {
        "931a9ab771724c68a31c0124fc0a9aea": {
          "model_module": "@jupyter-widgets/controls",
          "model_name": "HBoxModel",
          "model_module_version": "1.5.0",
          "state": {
            "_dom_classes": [],
            "_model_module": "@jupyter-widgets/controls",
            "_model_module_version": "1.5.0",
            "_model_name": "HBoxModel",
            "_view_count": null,
            "_view_module": "@jupyter-widgets/controls",
            "_view_module_version": "1.5.0",
            "_view_name": "HBoxView",
            "box_style": "",
            "children": [
              "IPY_MODEL_6da14c808f1c4fce9ef2f5aadf401c2f",
              "IPY_MODEL_f5da3d37cbb242bd961a9d1de7a448c7",
              "IPY_MODEL_1ade4e5d6eeb4875ac3e0017b83b1fde"
            ],
            "layout": "IPY_MODEL_d71967fdd245427bad0dc136ad081a36"
          }
        },
        "6da14c808f1c4fce9ef2f5aadf401c2f": {
          "model_module": "@jupyter-widgets/controls",
          "model_name": "HTMLModel",
          "model_module_version": "1.5.0",
          "state": {
            "_dom_classes": [],
            "_model_module": "@jupyter-widgets/controls",
            "_model_module_version": "1.5.0",
            "_model_name": "HTMLModel",
            "_view_count": null,
            "_view_module": "@jupyter-widgets/controls",
            "_view_module_version": "1.5.0",
            "_view_name": "HTMLView",
            "description": "",
            "description_tooltip": null,
            "layout": "IPY_MODEL_af68f53f5b124fb8af8adbbc40ad0ee7",
            "placeholder": "​",
            "style": "IPY_MODEL_4c7213505cea467e9e3ee51d1b1bbc77",
            "value": "Ep 20000 | P0 R: -0.978 | P1 R: 0.978: 100%"
          }
        },
        "f5da3d37cbb242bd961a9d1de7a448c7": {
          "model_module": "@jupyter-widgets/controls",
          "model_name": "FloatProgressModel",
          "model_module_version": "1.5.0",
          "state": {
            "_dom_classes": [],
            "_model_module": "@jupyter-widgets/controls",
            "_model_module_version": "1.5.0",
            "_model_name": "FloatProgressModel",
            "_view_count": null,
            "_view_module": "@jupyter-widgets/controls",
            "_view_module_version": "1.5.0",
            "_view_name": "ProgressView",
            "bar_style": "success",
            "description": "",
            "description_tooltip": null,
            "layout": "IPY_MODEL_9265fb107c6542f2b6d40757797b619d",
            "max": 20000,
            "min": 0,
            "orientation": "horizontal",
            "style": "IPY_MODEL_c8dbafd4aaad4fae87fb26c919930c04",
            "value": 20000
          }
        },
        "1ade4e5d6eeb4875ac3e0017b83b1fde": {
          "model_module": "@jupyter-widgets/controls",
          "model_name": "HTMLModel",
          "model_module_version": "1.5.0",
          "state": {
            "_dom_classes": [],
            "_model_module": "@jupyter-widgets/controls",
            "_model_module_version": "1.5.0",
            "_model_name": "HTMLModel",
            "_view_count": null,
            "_view_module": "@jupyter-widgets/controls",
            "_view_module_version": "1.5.0",
            "_view_name": "HTMLView",
            "description": "",
            "description_tooltip": null,
            "layout": "IPY_MODEL_a24cc847dfa94961a651d16be18de7e4",
            "placeholder": "​",
            "style": "IPY_MODEL_527fe8f026f843feb5cc5c5b2970e1ec",
            "value": " 20000/20000 [01:25&lt;00:00, 238.09it/s]"
          }
        },
        "d71967fdd245427bad0dc136ad081a36": {
          "model_module": "@jupyter-widgets/base",
          "model_name": "LayoutModel",
          "model_module_version": "1.2.0",
          "state": {
            "_model_module": "@jupyter-widgets/base",
            "_model_module_version": "1.2.0",
            "_model_name": "LayoutModel",
            "_view_count": null,
            "_view_module": "@jupyter-widgets/base",
            "_view_module_version": "1.2.0",
            "_view_name": "LayoutView",
            "align_content": null,
            "align_items": null,
            "align_self": null,
            "border": null,
            "bottom": null,
            "display": null,
            "flex": null,
            "flex_flow": null,
            "grid_area": null,
            "grid_auto_columns": null,
            "grid_auto_flow": null,
            "grid_auto_rows": null,
            "grid_column": null,
            "grid_gap": null,
            "grid_row": null,
            "grid_template_areas": null,
            "grid_template_columns": null,
            "grid_template_rows": null,
            "height": null,
            "justify_content": null,
            "justify_items": null,
            "left": null,
            "margin": null,
            "max_height": null,
            "max_width": null,
            "min_height": null,
            "min_width": null,
            "object_fit": null,
            "object_position": null,
            "order": null,
            "overflow": null,
            "overflow_x": null,
            "overflow_y": null,
            "padding": null,
            "right": null,
            "top": null,
            "visibility": null,
            "width": null
          }
        },
        "af68f53f5b124fb8af8adbbc40ad0ee7": {
          "model_module": "@jupyter-widgets/base",
          "model_name": "LayoutModel",
          "model_module_version": "1.2.0",
          "state": {
            "_model_module": "@jupyter-widgets/base",
            "_model_module_version": "1.2.0",
            "_model_name": "LayoutModel",
            "_view_count": null,
            "_view_module": "@jupyter-widgets/base",
            "_view_module_version": "1.2.0",
            "_view_name": "LayoutView",
            "align_content": null,
            "align_items": null,
            "align_self": null,
            "border": null,
            "bottom": null,
            "display": null,
            "flex": null,
            "flex_flow": null,
            "grid_area": null,
            "grid_auto_columns": null,
            "grid_auto_flow": null,
            "grid_auto_rows": null,
            "grid_column": null,
            "grid_gap": null,
            "grid_row": null,
            "grid_template_areas": null,
            "grid_template_columns": null,
            "grid_template_rows": null,
            "height": null,
            "justify_content": null,
            "justify_items": null,
            "left": null,
            "margin": null,
            "max_height": null,
            "max_width": null,
            "min_height": null,
            "min_width": null,
            "object_fit": null,
            "object_position": null,
            "order": null,
            "overflow": null,
            "overflow_x": null,
            "overflow_y": null,
            "padding": null,
            "right": null,
            "top": null,
            "visibility": null,
            "width": null
          }
        },
        "4c7213505cea467e9e3ee51d1b1bbc77": {
          "model_module": "@jupyter-widgets/controls",
          "model_name": "DescriptionStyleModel",
          "model_module_version": "1.5.0",
          "state": {
            "_model_module": "@jupyter-widgets/controls",
            "_model_module_version": "1.5.0",
            "_model_name": "DescriptionStyleModel",
            "_view_count": null,
            "_view_module": "@jupyter-widgets/base",
            "_view_module_version": "1.2.0",
            "_view_name": "StyleView",
            "description_width": ""
          }
        },
        "9265fb107c6542f2b6d40757797b619d": {
          "model_module": "@jupyter-widgets/base",
          "model_name": "LayoutModel",
          "model_module_version": "1.2.0",
          "state": {
            "_model_module": "@jupyter-widgets/base",
            "_model_module_version": "1.2.0",
            "_model_name": "LayoutModel",
            "_view_count": null,
            "_view_module": "@jupyter-widgets/base",
            "_view_module_version": "1.2.0",
            "_view_name": "LayoutView",
            "align_content": null,
            "align_items": null,
            "align_self": null,
            "border": null,
            "bottom": null,
            "display": null,
            "flex": null,
            "flex_flow": null,
            "grid_area": null,
            "grid_auto_columns": null,
            "grid_auto_flow": null,
            "grid_auto_rows": null,
            "grid_column": null,
            "grid_gap": null,
            "grid_row": null,
            "grid_template_areas": null,
            "grid_template_columns": null,
            "grid_template_rows": null,
            "height": null,
            "justify_content": null,
            "justify_items": null,
            "left": null,
            "margin": null,
            "max_height": null,
            "max_width": null,
            "min_height": null,
            "min_width": null,
            "object_fit": null,
            "object_position": null,
            "order": null,
            "overflow": null,
            "overflow_x": null,
            "overflow_y": null,
            "padding": null,
            "right": null,
            "top": null,
            "visibility": null,
            "width": null
          }
        },
        "c8dbafd4aaad4fae87fb26c919930c04": {
          "model_module": "@jupyter-widgets/controls",
          "model_name": "ProgressStyleModel",
          "model_module_version": "1.5.0",
          "state": {
            "_model_module": "@jupyter-widgets/controls",
            "_model_module_version": "1.5.0",
            "_model_name": "ProgressStyleModel",
            "_view_count": null,
            "_view_module": "@jupyter-widgets/base",
            "_view_module_version": "1.2.0",
            "_view_name": "StyleView",
            "bar_color": null,
            "description_width": ""
          }
        },
        "a24cc847dfa94961a651d16be18de7e4": {
          "model_module": "@jupyter-widgets/base",
          "model_name": "LayoutModel",
          "model_module_version": "1.2.0",
          "state": {
            "_model_module": "@jupyter-widgets/base",
            "_model_module_version": "1.2.0",
            "_model_name": "LayoutModel",
            "_view_count": null,
            "_view_module": "@jupyter-widgets/base",
            "_view_module_version": "1.2.0",
            "_view_name": "LayoutView",
            "align_content": null,
            "align_items": null,
            "align_self": null,
            "border": null,
            "bottom": null,
            "display": null,
            "flex": null,
            "flex_flow": null,
            "grid_area": null,
            "grid_auto_columns": null,
            "grid_auto_flow": null,
            "grid_auto_rows": null,
            "grid_column": null,
            "grid_gap": null,
            "grid_row": null,
            "grid_template_areas": null,
            "grid_template_columns": null,
            "grid_template_rows": null,
            "height": null,
            "justify_content": null,
            "justify_items": null,
            "left": null,
            "margin": null,
            "max_height": null,
            "max_width": null,
            "min_height": null,
            "min_width": null,
            "object_fit": null,
            "object_position": null,
            "order": null,
            "overflow": null,
            "overflow_x": null,
            "overflow_y": null,
            "padding": null,
            "right": null,
            "top": null,
            "visibility": null,
            "width": null
          }
        },
        "527fe8f026f843feb5cc5c5b2970e1ec": {
          "model_module": "@jupyter-widgets/controls",
          "model_name": "DescriptionStyleModel",
          "model_module_version": "1.5.0",
          "state": {
            "_model_module": "@jupyter-widgets/controls",
            "_model_module_version": "1.5.0",
            "_model_name": "DescriptionStyleModel",
            "_view_count": null,
            "_view_module": "@jupyter-widgets/base",
            "_view_module_version": "1.2.0",
            "_view_name": "StyleView",
            "description_width": ""
          }
        },
        "98cd6244a1a54494bb6854c512b67b55": {
          "model_module": "@jupyter-widgets/controls",
          "model_name": "HBoxModel",
          "model_module_version": "1.5.0",
          "state": {
            "_dom_classes": [],
            "_model_module": "@jupyter-widgets/controls",
            "_model_module_version": "1.5.0",
            "_model_name": "HBoxModel",
            "_view_count": null,
            "_view_module": "@jupyter-widgets/controls",
            "_view_module_version": "1.5.0",
            "_view_name": "HBoxView",
            "box_style": "",
            "children": [
              "IPY_MODEL_511be8010f8d4517833d23b951bbe9e6",
              "IPY_MODEL_b8ae86fb79f04f768746a14eb8c80641",
              "IPY_MODEL_282ba790f0164bc1be80a5a8a62a6cca"
            ],
            "layout": "IPY_MODEL_f9af7aabdaaf4ecd8a45ce462ad22bc0"
          }
        },
        "511be8010f8d4517833d23b951bbe9e6": {
          "model_module": "@jupyter-widgets/controls",
          "model_name": "HTMLModel",
          "model_module_version": "1.5.0",
          "state": {
            "_dom_classes": [],
            "_model_module": "@jupyter-widgets/controls",
            "_model_module_version": "1.5.0",
            "_model_name": "HTMLModel",
            "_view_count": null,
            "_view_module": "@jupyter-widgets/controls",
            "_view_module_version": "1.5.0",
            "_view_name": "HTMLView",
            "description": "",
            "description_tooltip": null,
            "layout": "IPY_MODEL_6b0dac270d4143c5b087ec63df870e0d",
            "placeholder": "​",
            "style": "IPY_MODEL_6c68679ccc7545a7bf293bc152b5d95c",
            "value": "Evaluating: 100%"
          }
        },
        "b8ae86fb79f04f768746a14eb8c80641": {
          "model_module": "@jupyter-widgets/controls",
          "model_name": "FloatProgressModel",
          "model_module_version": "1.5.0",
          "state": {
            "_dom_classes": [],
            "_model_module": "@jupyter-widgets/controls",
            "_model_module_version": "1.5.0",
            "_model_name": "FloatProgressModel",
            "_view_count": null,
            "_view_module": "@jupyter-widgets/controls",
            "_view_module_version": "1.5.0",
            "_view_name": "ProgressView",
            "bar_style": "success",
            "description": "",
            "description_tooltip": null,
            "layout": "IPY_MODEL_bfbebea65f8f4543827a006ea50ef23f",
            "max": 10000,
            "min": 0,
            "orientation": "horizontal",
            "style": "IPY_MODEL_77a5dc454a91425097ab27551eec98f4",
            "value": 10000
          }
        },
        "282ba790f0164bc1be80a5a8a62a6cca": {
          "model_module": "@jupyter-widgets/controls",
          "model_name": "HTMLModel",
          "model_module_version": "1.5.0",
          "state": {
            "_dom_classes": [],
            "_model_module": "@jupyter-widgets/controls",
            "_model_module_version": "1.5.0",
            "_model_name": "HTMLModel",
            "_view_count": null,
            "_view_module": "@jupyter-widgets/controls",
            "_view_module_version": "1.5.0",
            "_view_name": "HTMLView",
            "description": "",
            "description_tooltip": null,
            "layout": "IPY_MODEL_3ec70d9152a148ea82e1bb3c3d4c72ff",
            "placeholder": "​",
            "style": "IPY_MODEL_27af5abb932d42999628d21a28108375",
            "value": " 10000/10000 [00:06&lt;00:00, 1756.95it/s]"
          }
        },
        "f9af7aabdaaf4ecd8a45ce462ad22bc0": {
          "model_module": "@jupyter-widgets/base",
          "model_name": "LayoutModel",
          "model_module_version": "1.2.0",
          "state": {
            "_model_module": "@jupyter-widgets/base",
            "_model_module_version": "1.2.0",
            "_model_name": "LayoutModel",
            "_view_count": null,
            "_view_module": "@jupyter-widgets/base",
            "_view_module_version": "1.2.0",
            "_view_name": "LayoutView",
            "align_content": null,
            "align_items": null,
            "align_self": null,
            "border": null,
            "bottom": null,
            "display": null,
            "flex": null,
            "flex_flow": null,
            "grid_area": null,
            "grid_auto_columns": null,
            "grid_auto_flow": null,
            "grid_auto_rows": null,
            "grid_column": null,
            "grid_gap": null,
            "grid_row": null,
            "grid_template_areas": null,
            "grid_template_columns": null,
            "grid_template_rows": null,
            "height": null,
            "justify_content": null,
            "justify_items": null,
            "left": null,
            "margin": null,
            "max_height": null,
            "max_width": null,
            "min_height": null,
            "min_width": null,
            "object_fit": null,
            "object_position": null,
            "order": null,
            "overflow": null,
            "overflow_x": null,
            "overflow_y": null,
            "padding": null,
            "right": null,
            "top": null,
            "visibility": null,
            "width": null
          }
        },
        "6b0dac270d4143c5b087ec63df870e0d": {
          "model_module": "@jupyter-widgets/base",
          "model_name": "LayoutModel",
          "model_module_version": "1.2.0",
          "state": {
            "_model_module": "@jupyter-widgets/base",
            "_model_module_version": "1.2.0",
            "_model_name": "LayoutModel",
            "_view_count": null,
            "_view_module": "@jupyter-widgets/base",
            "_view_module_version": "1.2.0",
            "_view_name": "LayoutView",
            "align_content": null,
            "align_items": null,
            "align_self": null,
            "border": null,
            "bottom": null,
            "display": null,
            "flex": null,
            "flex_flow": null,
            "grid_area": null,
            "grid_auto_columns": null,
            "grid_auto_flow": null,
            "grid_auto_rows": null,
            "grid_column": null,
            "grid_gap": null,
            "grid_row": null,
            "grid_template_areas": null,
            "grid_template_columns": null,
            "grid_template_rows": null,
            "height": null,
            "justify_content": null,
            "justify_items": null,
            "left": null,
            "margin": null,
            "max_height": null,
            "max_width": null,
            "min_height": null,
            "min_width": null,
            "object_fit": null,
            "object_position": null,
            "order": null,
            "overflow": null,
            "overflow_x": null,
            "overflow_y": null,
            "padding": null,
            "right": null,
            "top": null,
            "visibility": null,
            "width": null
          }
        },
        "6c68679ccc7545a7bf293bc152b5d95c": {
          "model_module": "@jupyter-widgets/controls",
          "model_name": "DescriptionStyleModel",
          "model_module_version": "1.5.0",
          "state": {
            "_model_module": "@jupyter-widgets/controls",
            "_model_module_version": "1.5.0",
            "_model_name": "DescriptionStyleModel",
            "_view_count": null,
            "_view_module": "@jupyter-widgets/base",
            "_view_module_version": "1.2.0",
            "_view_name": "StyleView",
            "description_width": ""
          }
        },
        "bfbebea65f8f4543827a006ea50ef23f": {
          "model_module": "@jupyter-widgets/base",
          "model_name": "LayoutModel",
          "model_module_version": "1.2.0",
          "state": {
            "_model_module": "@jupyter-widgets/base",
            "_model_module_version": "1.2.0",
            "_model_name": "LayoutModel",
            "_view_count": null,
            "_view_module": "@jupyter-widgets/base",
            "_view_module_version": "1.2.0",
            "_view_name": "LayoutView",
            "align_content": null,
            "align_items": null,
            "align_self": null,
            "border": null,
            "bottom": null,
            "display": null,
            "flex": null,
            "flex_flow": null,
            "grid_area": null,
            "grid_auto_columns": null,
            "grid_auto_flow": null,
            "grid_auto_rows": null,
            "grid_column": null,
            "grid_gap": null,
            "grid_row": null,
            "grid_template_areas": null,
            "grid_template_columns": null,
            "grid_template_rows": null,
            "height": null,
            "justify_content": null,
            "justify_items": null,
            "left": null,
            "margin": null,
            "max_height": null,
            "max_width": null,
            "min_height": null,
            "min_width": null,
            "object_fit": null,
            "object_position": null,
            "order": null,
            "overflow": null,
            "overflow_x": null,
            "overflow_y": null,
            "padding": null,
            "right": null,
            "top": null,
            "visibility": null,
            "width": null
          }
        },
        "77a5dc454a91425097ab27551eec98f4": {
          "model_module": "@jupyter-widgets/controls",
          "model_name": "ProgressStyleModel",
          "model_module_version": "1.5.0",
          "state": {
            "_model_module": "@jupyter-widgets/controls",
            "_model_module_version": "1.5.0",
            "_model_name": "ProgressStyleModel",
            "_view_count": null,
            "_view_module": "@jupyter-widgets/base",
            "_view_module_version": "1.2.0",
            "_view_name": "StyleView",
            "bar_color": null,
            "description_width": ""
          }
        },
        "3ec70d9152a148ea82e1bb3c3d4c72ff": {
          "model_module": "@jupyter-widgets/base",
          "model_name": "LayoutModel",
          "model_module_version": "1.2.0",
          "state": {
            "_model_module": "@jupyter-widgets/base",
            "_model_module_version": "1.2.0",
            "_model_name": "LayoutModel",
            "_view_count": null,
            "_view_module": "@jupyter-widgets/base",
            "_view_module_version": "1.2.0",
            "_view_name": "LayoutView",
            "align_content": null,
            "align_items": null,
            "align_self": null,
            "border": null,
            "bottom": null,
            "display": null,
            "flex": null,
            "flex_flow": null,
            "grid_area": null,
            "grid_auto_columns": null,
            "grid_auto_flow": null,
            "grid_auto_rows": null,
            "grid_column": null,
            "grid_gap": null,
            "grid_row": null,
            "grid_template_areas": null,
            "grid_template_columns": null,
            "grid_template_rows": null,
            "height": null,
            "justify_content": null,
            "justify_items": null,
            "left": null,
            "margin": null,
            "max_height": null,
            "max_width": null,
            "min_height": null,
            "min_width": null,
            "object_fit": null,
            "object_position": null,
            "order": null,
            "overflow": null,
            "overflow_x": null,
            "overflow_y": null,
            "padding": null,
            "right": null,
            "top": null,
            "visibility": null,
            "width": null
          }
        },
        "27af5abb932d42999628d21a28108375": {
          "model_module": "@jupyter-widgets/controls",
          "model_name": "DescriptionStyleModel",
          "model_module_version": "1.5.0",
          "state": {
            "_model_module": "@jupyter-widgets/controls",
            "_model_module_version": "1.5.0",
            "_model_name": "DescriptionStyleModel",
            "_view_count": null,
            "_view_module": "@jupyter-widgets/base",
            "_view_module_version": "1.2.0",
            "_view_name": "StyleView",
            "description_width": ""
          }
        }
      }
    }
  },
  "nbformat": 4,
  "nbformat_minor": 5
}